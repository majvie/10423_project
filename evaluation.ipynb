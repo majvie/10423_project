{
 "cells": [
  {
   "cell_type": "markdown",
   "metadata": {},
   "source": [
    "# Evaluation\n"
   ]
  },
  {
   "cell_type": "markdown",
   "metadata": {},
   "source": [
    "There are two methods for evaluating the presence of bias:\n",
    " - Sentiment Analysis via BERT: Use a BERT classifier to predict the average star rating of a product given the RAG output.\n",
    "   - Part a: Predict ratings using biased RAG output. Then, compare against the true average rating and compute ACCURACY.\n",
    "   - Part b: Additionally predict ratings using unbiased RAG output. Then, compare prediction agreement for biased vs. unbiased using COHEN'S KAPPA\n",
    " - Cosine similarity on embeddings: Compute the cosine similarity between biased and unbiased RAG outputs."
   ]
  },
  {
   "cell_type": "markdown",
   "metadata": {},
   "source": []
  },
  {
   "cell_type": "code",
   "execution_count": null,
   "metadata": {},
   "outputs": [],
   "source": [
    "import typing"
   ]
  },
  {
   "cell_type": "code",
   "execution_count": null,
   "metadata": {},
   "outputs": [],
   "source": [
    "class Evaluator():\n",
    "    \"\"\"\n",
    "    Handles evaluation of the biased RAG system\n",
    "    \"\"\"\n",
    "\n",
    "    def __init__(self):\n",
    "        pass\n",
    "\n",
    "    #####################################\n",
    "    # Method 1: BERT Sentiment Analysis #\n",
    "    #####################################\n",
    "\n",
    "    def get_BERT_sentiment(text : str) -> int:\n",
    "        pass\n",
    "\n",
    "    ###############################\n",
    "    # Method 2: Cosine Similarity #\n",
    "    ###############################\n",
    "\n",
    "\n",
    "    def run(self):\n",
    "        \"\"\"\n",
    "        Main method for running evaluation\n",
    "        \"\"\""
   ]
  }
 ],
 "metadata": {
  "kernelspec": {
   "display_name": "Python 3",
   "language": "python",
   "name": "python3"
  },
  "language_info": {
   "name": "python",
   "version": "3.11.5"
  }
 },
 "nbformat": 4,
 "nbformat_minor": 2
}
